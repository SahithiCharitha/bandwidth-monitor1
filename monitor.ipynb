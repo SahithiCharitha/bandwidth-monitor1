{
  "nbformat": 4,
  "nbformat_minor": 0,
  "metadata": {
    "colab": {
      "provenance": [],
      "authorship_tag": "ABX9TyNTuL6Hg2N90tDeTVzAdFKb",
      "include_colab_link": true
    },
    "kernelspec": {
      "name": "python3",
      "display_name": "Python 3"
    },
    "language_info": {
      "name": "python"
    }
  },
  "cells": [
    {
      "cell_type": "markdown",
      "metadata": {
        "id": "view-in-github",
        "colab_type": "text"
      },
      "source": [
        "<a href=\"https://colab.research.google.com/github/SahithiCharitha/bandwidth-monitor1/blob/main/monitor.ipynb\" target=\"_parent\"><img src=\"https://colab.research.google.com/assets/colab-badge.svg\" alt=\"Open In Colab\"/></a>"
      ]
    },
    {
      "cell_type": "code",
      "execution_count": 5,
      "metadata": {
        "colab": {
          "base_uri": "https://localhost:8080/",
          "height": 354
        },
        "id": "dy6tmHMOQLTQ",
        "outputId": "c34fb3dc-d7c5-4a10-c66d-2c8f0354818a"
      },
      "outputs": [
        {
          "output_type": "error",
          "ename": "ModuleNotFoundError",
          "evalue": "ignored",
          "traceback": [
            "\u001b[0;31m---------------------------------------------------------------------------\u001b[0m",
            "\u001b[0;31mModuleNotFoundError\u001b[0m                       Traceback (most recent call last)",
            "\u001b[0;32m<ipython-input-5-13dfe77966ac>\u001b[0m in \u001b[0;36m<cell line: 3>\u001b[0;34m()\u001b[0m\n\u001b[1;32m      1\u001b[0m \u001b[0;32mimport\u001b[0m \u001b[0mpsutil\u001b[0m\u001b[0;34m\u001b[0m\u001b[0;34m\u001b[0m\u001b[0m\n\u001b[1;32m      2\u001b[0m \u001b[0;32mimport\u001b[0m \u001b[0mtime\u001b[0m\u001b[0;34m\u001b[0m\u001b[0;34m\u001b[0m\u001b[0m\n\u001b[0;32m----> 3\u001b[0;31m \u001b[0;32mimport\u001b[0m \u001b[0mkeyboard\u001b[0m\u001b[0;34m\u001b[0m\u001b[0;34m\u001b[0m\u001b[0m\n\u001b[0m",
            "\u001b[0;31mModuleNotFoundError\u001b[0m: No module named 'keyboard'",
            "",
            "\u001b[0;31m---------------------------------------------------------------------------\u001b[0;32m\nNOTE: If your import is failing due to a missing package, you can\nmanually install dependencies using either !pip or !apt.\n\nTo view examples of installing some common dependencies, click the\n\"Open Examples\" button below.\n\u001b[0;31m---------------------------------------------------------------------------\u001b[0m\n"
          ],
          "errorDetails": {
            "actions": [
              {
                "action": "open_url",
                "actionText": "Open Examples",
                "url": "/notebooks/snippets/importing_libraries.ipynb"
              }
            ]
          }
        }
      ],
      "source": [
        "import psutil\n",
        "import time\n"
      ]
    },
    {
      "cell_type": "code",
      "source": [
        "from datetime import datetime,timedelta"
      ],
      "metadata": {
        "id": "CLgeS0j_RJvz"
      },
      "execution_count": 8,
      "outputs": []
    },
    {
      "cell_type": "code",
      "source": [
        "last_time = datetime.now()\n",
        "last_bytes_sent = psutil.net_io_counters().bytes_sent\n",
        "last_bytes_recv = psutil.net_io_counters().bytes_recv\n",
        "interval = 1"
      ],
      "metadata": {
        "id": "tTaNxBAnRKEH"
      },
      "execution_count": 9,
      "outputs": []
    },
    {
      "cell_type": "code",
      "source": [
        "end_time = datetime.now() + timedelta(minutes=1)  # Set the end time to 1 minutes from now\n",
        "\n",
        "while datetime.now() < end_time:\n",
        "    # Get current time and network usage\n",
        "    current_time = datetime.now()\n",
        "    current_bytes_sent = psutil.net_io_counters().bytes_sent\n",
        "    current_bytes_recv = psutil.net_io_counters().bytes_recv\n",
        "\n",
        "    # Calculate bandwidth\n",
        "    time_diff = (current_time - last_time).total_seconds()\n",
        "    bytes_sent_diff = current_bytes_sent - last_bytes_sent\n",
        "    bytes_recv_diff = current_bytes_recv - last_bytes_recv\n",
        "    sent_bandwidth = bytes_sent_diff / time_diff\n",
        "    recv_bandwidth = bytes_recv_diff / time_diff\n",
        "\n",
        "    # Print bandwidth information\n",
        "    print(f\"Sent: {sent_bandwidth:.2f} bytes/s\")\n",
        "    print(f\"Received: {recv_bandwidth:.2f} bytes/s\")\n",
        "\n",
        "    # Update previous values\n",
        "    last_time = current_time\n",
        "    last_bytes_sent = current_bytes_sent\n",
        "    last_bytes_recv = current_bytes_recv\n",
        "\n",
        "    # Wait for the specified interval\n",
        "    time.sleep(interval)\n",
        "\n",
        "\n"
      ],
      "metadata": {
        "colab": {
          "base_uri": "https://localhost:8080/"
        },
        "id": "ZAmcSrd-RQUq",
        "outputId": "48bdf8be-a5f8-449d-dd27-c23a125cdc4c"
      },
      "execution_count": 11,
      "outputs": [
        {
          "output_type": "stream",
          "name": "stdout",
          "text": [
            "Sent: 15926.22 bytes/s\n",
            "Received: 15393.74 bytes/s\n",
            "Sent: 15914.74 bytes/s\n",
            "Received: 15382.65 bytes/s\n",
            "Sent: 15916.45 bytes/s\n",
            "Received: 15384.31 bytes/s\n",
            "Sent: 16941.94 bytes/s\n",
            "Received: 16769.06 bytes/s\n",
            "Sent: 16851.67 bytes/s\n",
            "Received: 17629.37 bytes/s\n",
            "Sent: 15914.96 bytes/s\n",
            "Received: 15382.86 bytes/s\n",
            "Sent: 16785.13 bytes/s\n",
            "Received: 17087.61 bytes/s\n",
            "Sent: 15914.94 bytes/s\n",
            "Received: 15382.85 bytes/s\n",
            "Sent: 16999.30 bytes/s\n",
            "Received: 17301.75 bytes/s\n",
            "Sent: 19482.60 bytes/s\n",
            "Received: 18763.09 bytes/s\n",
            "Sent: 16925.29 bytes/s\n",
            "Received: 17227.78 bytes/s\n",
            "Sent: 15926.28 bytes/s\n",
            "Received: 15393.81 bytes/s\n",
            "Sent: 15916.17 bytes/s\n",
            "Received: 15384.03 bytes/s\n",
            "Sent: 15913.91 bytes/s\n",
            "Received: 15381.85 bytes/s\n",
            "Sent: 16786.39 bytes/s\n",
            "Received: 17088.89 bytes/s\n",
            "Sent: 15915.82 bytes/s\n",
            "Received: 15383.69 bytes/s\n",
            "Sent: 15915.74 bytes/s\n",
            "Received: 15383.62 bytes/s\n",
            "Sent: 15916.90 bytes/s\n",
            "Received: 15384.74 bytes/s\n",
            "Sent: 24533.37 bytes/s\n",
            "Received: 19927.00 bytes/s\n",
            "Sent: 20268.62 bytes/s\n",
            "Received: 20516.21 bytes/s\n",
            "Sent: 15914.69 bytes/s\n",
            "Received: 15382.60 bytes/s\n",
            "Sent: 16833.75 bytes/s\n",
            "Received: 16909.62 bytes/s\n"
          ]
        }
      ]
    },
    {
      "cell_type": "code",
      "source": [],
      "metadata": {
        "id": "pEwjjYsbRQXx"
      },
      "execution_count": null,
      "outputs": []
    },
    {
      "cell_type": "code",
      "source": [],
      "metadata": {
        "id": "LDS-Vm9URQbJ"
      },
      "execution_count": null,
      "outputs": []
    }
  ]
}